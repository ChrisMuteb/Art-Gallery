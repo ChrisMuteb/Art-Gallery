{
 "cells": [
  {
   "cell_type": "code",
   "execution_count": 49,
   "id": "6406bbfe",
   "metadata": {},
   "outputs": [],
   "source": [
    "                \n",
    "class Painting:\n",
    "    # constructor\n",
    "    def __init__(self, paint_id, paint_type, paint_tag_num, paint_tag_lst):\n",
    "        self._paint_id = paint_id\n",
    "        self._paint_type = paint_type\n",
    "        self._paint_tag_num = paint_tag_num\n",
    "        self._paint_tag_lst = paint_tag_lst\n",
    "    # string function to dereference the object\n",
    "    def __str__(self):\n",
    "        return f'{self._paint_id} {self._paint_type} {_paint_tag_num} {_paint_tag_lst}'\n",
    "    "
   ]
  },
  {
   "cell_type": "code",
   "execution_count": 50,
   "id": "78324a41",
   "metadata": {},
   "outputs": [],
   "source": [
    "def readData(file):\n",
    "    my_file = None  # Initialize the variable outside the try block\n",
    "    try:\n",
    "        my_file = open(file)\n",
    "        lst = my_file.readlines()\n",
    "        return lst\n",
    "    except IOError as e:\n",
    "        print(f\"An error occurred: {e}\")\n",
    "    finally:\n",
    "        if my_file:\n",
    "            my_file.close()"
   ]
  },
  {
   "cell_type": "code",
   "execution_count": 51,
   "id": "4d447572",
   "metadata": {},
   "outputs": [],
   "source": [
    "# frameglasses\n",
    "def frameglasses(lst):\n",
    "    frame_id = 0\n",
    "    frame_landscape = []\n",
    "    frame_portrait = []\n",
    "    \n",
    "    for line in lst[1:]:\n",
    "        line_parts = line.split(' ')\n",
    "        frame_type = line_parts[0]\n",
    "        frame_tag_num = int(line_parts[1])\n",
    "        frame_tag_lst = set(line_parts[2:])\n",
    "        painting = Painting(frame_id, frame_type, frame_tag_num, frame_tag_lst)\n",
    "        \n",
    "        if frame_type == 'L':\n",
    "            frame_landscape.append(painting)\n",
    "        else:\n",
    "            frame_portrait.append(painting)\n",
    "        frame_id += 1\n",
    "        \n",
    "    print(frame_landscape, ' ', frame_portrait)\n",
    "    return frame_landscape + frame_portrait\n",
    "        "
   ]
  },
  {
   "cell_type": "code",
   "execution_count": 52,
   "id": "1c61963a",
   "metadata": {},
   "outputs": [
    {
     "name": "stdout",
     "output_type": "stream",
     "text": [
      "[<__main__.Painting object at 0x108759050>, <__main__.Painting object at 0x1094e5290>]   [<__main__.Painting object at 0x1094e7f90>, <__main__.Painting object at 0x1094e4710>]\n"
     ]
    }
   ],
   "source": [
    "frameglasses(readData('Data/0_example.txt'))"
   ]
  },
  {
   "cell_type": "code",
   "execution_count": null,
   "id": "2d5f13cb",
   "metadata": {},
   "outputs": [],
   "source": [
    "# write to a file\n",
    "    def writeData(file):\n",
    "        with open('test.txt', mode='w') as my_f:\n",
    "            text = my_f.write('hey there it is me!')\n",
    "            print(text)"
   ]
  },
  {
   "cell_type": "code",
   "execution_count": 24,
   "id": "e5e1e27b",
   "metadata": {},
   "outputs": [
    {
     "ename": "NameError",
     "evalue": "name 'readData' is not defined",
     "output_type": "error",
     "traceback": [
      "\u001b[0;31m---------------------------------------------------------------------------\u001b[0m",
      "\u001b[0;31mNameError\u001b[0m                                 Traceback (most recent call last)",
      "Cell \u001b[0;32mIn[24], line 1\u001b[0m\n\u001b[0;32m----> 1\u001b[0m readData(\u001b[38;5;124m'\u001b[39m\u001b[38;5;124mData/0_example.txt\u001b[39m\u001b[38;5;124m'\u001b[39m)\n",
      "\u001b[0;31mNameError\u001b[0m: name 'readData' is not defined"
     ]
    }
   ],
   "source": [
    "\n"
   ]
  },
  {
   "cell_type": "code",
   "execution_count": 17,
   "id": "d9d504dc",
   "metadata": {},
   "outputs": [
    {
     "name": "stdout",
     "output_type": "stream",
     "text": [
      "L 3 animals fear war\n",
      "\n"
     ]
    }
   ],
   "source": [
    "my_file = open('Data/0_example.txt')\n",
    "lst = my_file.readlines()\n",
    "print(lst)\n",
    "my_file.close()"
   ]
  },
  {
   "cell_type": "code",
   "execution_count": 18,
   "id": "8b4d6168",
   "metadata": {},
   "outputs": [
    {
     "name": "stdout",
     "output_type": "stream",
     "text": [
      "['4\\n', 'L 3 animals fear war\\n', 'P 2 smile woman\\n', 'P 2 woman pearl\\n', 'L 3 fear raft survivors\\n']\n"
     ]
    }
   ],
   "source": [
    "\n",
    "with open('Data/0_example.txt') as my_file1:\n",
    "    print(my_file1.readlines())"
   ]
  },
  {
   "cell_type": "code",
   "execution_count": 20,
   "id": "bd141273",
   "metadata": {},
   "outputs": [
    {
     "name": "stdout",
     "output_type": "stream",
     "text": [
      "19\n"
     ]
    }
   ],
   "source": [
    "# write to a file\n",
    "with open('test.txt', mode='w') as my_f:\n",
    "    text = my_f.write('hey there it is me!')\n",
    "    print(text)"
   ]
  },
  {
   "cell_type": "code",
   "execution_count": null,
   "id": "a8dba4ff",
   "metadata": {},
   "outputs": [],
   "source": [
    "try:\n",
    "    my_file = open('Data/0_example.txt')\n",
    "    lst = my_file.readlines()\n",
    "    print(lst)\n",
    "except IOError as e:\n",
    "    print(f\"An error occurred: {e}\")\n",
    "finally:\n",
    "    if my_file:\n",
    "        my_file.close()\n"
   ]
  }
 ],
 "metadata": {
  "kernelspec": {
   "display_name": "Python 3 (ipykernel)",
   "language": "python",
   "name": "python3"
  },
  "language_info": {
   "codemirror_mode": {
    "name": "ipython",
    "version": 3
   },
   "file_extension": ".py",
   "mimetype": "text/x-python",
   "name": "python",
   "nbconvert_exporter": "python",
   "pygments_lexer": "ipython3",
   "version": "3.11.5"
  }
 },
 "nbformat": 4,
 "nbformat_minor": 5
}
