{
 "cells": [
  {
   "cell_type": "code",
   "execution_count": 49,
   "id": "dc010db9",
   "metadata": {},
   "outputs": [],
   "source": [
    "class Painting:\n",
    "    def __init__(self, paint_id, paint_type, paint_tag_num, paint_tag_lst):\n",
    "        self._paint_id = paint_id\n",
    "        self._paint_type = paint_type\n",
    "        self._paint_tag_num = paint_tag_num\n",
    "        self._paint_tag_lst = paint_tag_lst\n",
    "\n",
    "    def __str__(self):\n",
    "        return f'{self._paint_id} {self._paint_type} {self._paint_tag_num} {self._paint_tag_lst}'\n"
   ]
  },
  {
   "cell_type": "code",
   "execution_count": 50,
   "id": "f65fe09c",
   "metadata": {},
   "outputs": [],
   "source": [
    "def read_data(file):\n",
    "    try:\n",
    "        with open(file, 'r') as my_file:\n",
    "            lst = my_file.readlines()\n",
    "            return lst\n",
    "    except IOError as e:\n",
    "        print(f\"An error occurred: {e}\")"
   ]
  },
  {
   "cell_type": "code",
   "execution_count": 51,
   "id": "1f997a43",
   "metadata": {},
   "outputs": [],
   "source": [
    "# frameglasses\n",
    "def categorize_frames(data):\n",
    "    frame_id = 0\n",
    "    frame_landscape = []\n",
    "    frame_portrait = []\n",
    "\n",
    "    for line in data[1:]:\n",
    "        line_parts = line.split()\n",
    "        frame_type = line_parts[0]\n",
    "        frame_tag_num = int(line_parts[1])\n",
    "        frame_tag_lst = set(line_parts[2:])\n",
    "        painting = Painting(frame_id, frame_type, frame_tag_num, frame_tag_lst)\n",
    "\n",
    "        if frame_type == 'L':\n",
    "            frame_landscape.append(painting)\n",
    "        else:\n",
    "            frame_portrait.append(painting)\n",
    "        frame_id += 1\n",
    "\n",
    "    print(\"Landscape Frames:\", frame_landscape)\n",
    "    print(\"Portrait Frames:\", frame_portrait)\n",
    "\n",
    "    return frame_landscape, frame_portrait"
   ]
  },
  {
   "cell_type": "code",
   "execution_count": 52,
   "id": "a466f00c",
   "metadata": {},
   "outputs": [
    {
     "name": "stdout",
     "output_type": "stream",
     "text": [
      "[<__main__.Painting object at 0x108759050>, <__main__.Painting object at 0x1094e5290>]   [<__main__.Painting object at 0x1094e7f90>, <__main__.Painting object at 0x1094e4710>]\n"
     ]
    }
   ],
   "source": [
    "if __name__ == \"__main__\":\n",
    "    data = read_data('Data/0_example.txt')\n",
    "    landscape, portrait = categorize_frames(data)\n",
    "    \n",
    "    print(\"Landscape Frames:\")\n",
    "    for painting in landscape:\n",
    "        print(painting)\n",
    "    \n",
    "    print(\"Portrait Frames:\")\n",
    "    for painting in portrait:\n",
    "        print(painting)"
   ]
  },
  {
   "cell_type": "code",
   "execution_count": null,
   "id": "4e1819d8",
   "metadata": {},
   "outputs": [],
   "source": [
    "# write to a file\n",
    "def writeData(file, data):\n",
    "    pass"
   ]
  },
  {
   "cell_type": "code",
   "execution_count": 61,
   "id": "367e0521",
   "metadata": {},
   "outputs": [],
   "source": [
    "# local robotic satisfaction\n",
    "def local_robotic_satisfaction(frameglassA, frameglassB):\n",
    "    inter_result = frameglassA.intersection(frameglassB)\n",
    "    diff_A = len(frameglassA) - len(inter_result)\n",
    "    diff_B = len(frameglassB) - len(inter_result)\n",
    "    return min(len(inter_result), diff_A, diff_B)\n"
   ]
  },
  {
   "cell_type": "code",
   "execution_count": 63,
   "id": "d59d1c4e",
   "metadata": {},
   "outputs": [],
   "source": [
    "# sort painting based on the number of tags\n",
    "def sort_painting(paintings):\n",
    "    return sorted(paintings, key=lambda painting: painting.paint_tag_num)"
   ]
  },
  {
   "cell_type": "code",
   "execution_count": 66,
   "id": "1f9dba47",
   "metadata": {},
   "outputs": [],
   "source": [
    "# combine 2 portrait frame\n",
    "def combine_portrait_frameglass(frameglassA, frameglassB):\n",
    "    return frameglassA.union(frameglassB)\n"
   ]
  },
  {
   "cell_type": "code",
   "execution_count": 20,
   "id": "a59ccb2f",
   "metadata": {},
   "outputs": [
    {
     "name": "stdout",
     "output_type": "stream",
     "text": [
      "19\n"
     ]
    }
   ],
   "source": [
    "# write to a file\n",
    "with open('test.txt', mode='w') as my_f:\n",
    "    text = my_f.write('hey there it is me!')\n",
    "    print(text)"
   ]
  },
  {
   "cell_type": "code",
   "execution_count": null,
   "id": "5505f072",
   "metadata": {},
   "outputs": [],
   "source": [
    "try:\n",
    "    my_file = open('Data/0_example.txt')\n",
    "    lst = my_file.readlines()\n",
    "    print(lst)\n",
    "except IOError as e:\n",
    "    print(f\"An error occurred: {e}\")\n",
    "finally:\n",
    "    if my_file:\n",
    "        my_file.close()\n"
   ]
  }
 ],
 "metadata": {
  "kernelspec": {
   "display_name": "Python 3 (ipykernel)",
   "language": "python",
   "name": "python3"
  },
  "language_info": {
   "codemirror_mode": {
    "name": "ipython",
    "version": 3
   },
   "file_extension": ".py",
   "mimetype": "text/x-python",
   "name": "python",
   "nbconvert_exporter": "python",
   "pygments_lexer": "ipython3",
   "version": "3.11.5"
  }
 },
 "nbformat": 4,
 "nbformat_minor": 5
}
